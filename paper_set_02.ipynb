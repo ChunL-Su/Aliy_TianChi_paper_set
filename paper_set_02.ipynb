{
 "cells": [
  {
   "cell_type": "markdown",
   "metadata": {},
   "source": [
    "# 任务二的思路和难点\n",
    "### 思路：\n",
    "- 统计论文作者，那肯定得读取data['authors']这列\n",
    "- 把所有名字一统计，找出总量前10的人名就好了\n",
    "### 难点：\n",
    "- 思路很好理解，但是实际操作发现，论文作者往往是几个甚至几十个人名组成的字符串\n",
    "- 而且里边包含，逗号、括号、双括号、and、所属机构名称等等，这就对提取人名产生了很大的影响\n",
    "#### 解决方案\n",
    "- 1、通过观察发现，人名不会出现在括号中（即，括号里一般是数字，或者机构名称），则字符串大体上可以等价于“名字+括号”的组合\n",
    "- 2、所以把括号及其中的内容统一替换成“逗号”，因为之后便于使用“逗号”分割字符串。这里需要使用正则表达式替换括号及其中内容为逗号\n",
    "- 3、还发现里边含有and（比如：Tom, Marry and Li Lei），所以把and也统一替换成“逗号”\n",
    "- 4、通过大量观察，还发现做研究的歪果仁经常是父子一起研究，而且他们的名字还是一样的，仅以Jr（Jr:二世，比如查理二世，就是查理的儿子，或者老布什和小布什）表示\n",
    "- 5、所以需要把\",Jr\",\"and Jr\"等替换成全名，例如：Mark, Jr ==> Mark, Mark Jr; Mark and Jr ==> Mark, Mark Jr"
   ]
  },
  {
   "cell_type": "code",
   "execution_count": 1,
   "metadata": {},
   "outputs": [],
   "source": [
    "# id              : arXivID,用于访问论文\n",
    "# submitter       : 论文提交者\n",
    "# authors         : 论文作者\n",
    "# title           : 论文标题\n",
    "# comments        : 论文页数和图标等其它信息\n",
    "# journal-ref     : 论文发表的期刊的信息\n",
    "# doi             : 数字对象标识符\n",
    "# report-no       : 报告编号\n",
    "# categories      : 论文在arXiv系统的所属类别标签\n",
    "# license         : 文章的许可证\n",
    "# abstract        : 摘要\n",
    "# versions        : 论文版本\n",
    "# authors_parsed  : 作者信息\n",
    "\n",
    "# BaseLine\n",
    "# 任务1:论文数量统计（统计2019年全年，计算机各个方向论文的数量）\n",
    "# 任务2:论文作者统计（统计所有论文作者出现频率Top10的姓名）\n",
    "# 任务3:论文代码统计（统计所有论文类别下包含源代码论文的比例）\n",
    "# 任务4:论文分类（利用已有数据建模，对新论文进行类别分类）\n",
    "# 任务5:作者关联（对论文作者关系进行建模，统计最常出现的作者关系）"
   ]
  },
  {
   "cell_type": "code",
   "execution_count": 14,
   "metadata": {},
   "outputs": [],
   "source": [
    "# 先用这几个库，之后不够再加\n",
    "import json\n",
    "import pandas as pd\n",
    "import numpy as np\n",
    "import matplotlib.pyplot as plt\n",
    "import matplotlib\n",
    "import re"
   ]
  },
  {
   "cell_type": "code",
   "execution_count": 15,
   "metadata": {},
   "outputs": [],
   "source": [
    "# 设置绘图可以使用中文\n",
    "font = {'family': 'MicroSoft YaHei',\n",
    "        'weight': 'bold',\n",
    "        'size': 20}\n",
    "matplotlib.rc(\"font\", **font)"
   ]
  },
  {
   "cell_type": "code",
   "execution_count": 3,
   "metadata": {},
   "outputs": [
    {
     "name": "stdout",
     "output_type": "stream",
     "text": [
      "(170618, 14)\n"
     ]
    }
   ],
   "source": [
    "# 读取数据\n",
    "data = []\n",
    "# 使用with语句优势：1.自动关闭文件句柄；2.自动显示（处理）文件读取数据异常\n",
    "with open(r\"D:\\TianChi_DataSet\\paper_set\\arxiv-metadata-oai-2019.json\", 'r') as f:\n",
    "    for line in f:\n",
    "        data.append(json.loads(line))\n",
    "    data = pd.DataFrame(data)    # 将list变为dataframe格式，方便使用pandas进行分析\n",
    "print(data.shape)   #显示数据大小"
   ]
  },
  {
   "cell_type": "code",
   "execution_count": 4,
   "metadata": {},
   "outputs": [
    {
     "data": {
      "text/plain": [
       "Index(['id', 'submitter', 'authors', 'title', 'comments', 'journal-ref', 'doi',\n",
       "       'report-no', 'categories', 'license', 'abstract', 'versions',\n",
       "       'update_date', 'authors_parsed'],\n",
       "      dtype='object')"
      ]
     },
     "execution_count": 4,
     "metadata": {},
     "output_type": "execute_result"
    }
   ],
   "source": [
    "# 这里就不检查数据缺失啥的了（我比较懒...）\n",
    "data.columns"
   ]
  },
  {
   "cell_type": "code",
   "execution_count": 5,
   "metadata": {},
   "outputs": [],
   "source": [
    "# 这个函数集我毕生功力而写出的字符串处理函数\n",
    "def name_list(s):\n",
    "    str = s['authors']\n",
    "    new_str = ''\n",
    "    final_li = []\n",
    "    tmp1 = 0\n",
    "    tmp2 = 0\n",
    "    # 优先处理一下含有“ and Jr”和“, Jr”的两种情况，因为这个会影响后边的处理\n",
    "    if ' and Jr' in str:\n",
    "        for i in range(len(str)-1, 1, -1):\n",
    "            if str[i-6:i+1] == ' and Jr':\n",
    "                tmp1 = i-7\n",
    "                break\n",
    "        for j in range(tmp1, 0, -1):\n",
    "            if str[j-2: j] == ', ':\n",
    "                tmp2 = j\n",
    "        str = str+','+str[tmp2:tmp1+1]+' Jr'\n",
    "    elif ', Jr' in str:\n",
    "        for i in range(len(str)-1, 1, -1):\n",
    "            if str[i-3:i+1] == ', Jr':\n",
    "                tmp1 = i-4\n",
    "                break\n",
    "        for j in range(tmp1, 0, -1):\n",
    "            if str[j-2: j] == ', ':\n",
    "                tmp2 = j\n",
    "        str = str+','+str[tmp2:tmp1+1]+' Jr'\n",
    "    # 处理完上面的情况，就剩下含有括号的了\n",
    "    # 接下来需要使用正则表达式识别出括号及括号中包含的这部分字符串，并且把他们替换成逗号，方便之后利用逗号分割字符串\n",
    "    if '((' in str:\n",
    "        for i in range(len(str) - 1, 1, -1):\n",
    "            if str[i] == '(' and str[i - 1] == '(':\n",
    "                new_str = str[0:i - 1].replace(' and ', ',')\n",
    "                break\n",
    "        # 正则匹配括号，\\s\\S是匹配任意字符\n",
    "        new_s = re.sub(r'\\([\\s\\S]*\\)', ',', new_str).split(',')\n",
    "        li = [i.strip() for i in new_s]\n",
    "        # 经过上边的处理之后，又发现字符串中还可能含有“et al”（一篇高水平的论文一般不是一个人完成的，极有可能是一个团队，et al表示不一一列举）\n",
    "        for i in li:\n",
    "            if i != '' and 'et al' not in i:\n",
    "                final_li.append(i)\n",
    "    else:\n",
    "        new_s = re.sub(r'\\([\\s\\S]*\\)', ',', str).replace(' and ', ',').split(',')\n",
    "        li = [i.strip() for i in new_s]\n",
    "        for i in li:\n",
    "            if i != '' and 'et al' not in i:\n",
    "                final_li.append(i)\n",
    "    return final_li"
   ]
  },
  {
   "cell_type": "code",
   "execution_count": 6,
   "metadata": {},
   "outputs": [],
   "source": [
    "# 在最右侧添加一列'authors_list'并赋值为0，用于存储每条数据识别出来的人名\n",
    "data['authors_list']=0"
   ]
  },
  {
   "cell_type": "code",
   "execution_count": 7,
   "metadata": {},
   "outputs": [],
   "source": [
    "# 把上边写好的函数应用到data中去\n",
    "data['authors_list'] = data.apply(name_list, axis=1)"
   ]
  },
  {
   "cell_type": "code",
   "execution_count": 8,
   "metadata": {},
   "outputs": [
    {
     "data": {
      "text/plain": [
       "1002                                  [S. Bahinipati]\n",
       "1003                               [Andrew G. Ivanov]\n",
       "1004    [Ting-Wai Chiu, Tung-Han Hsieh, Po-Kai Tseng]\n",
       "1005                                   [D. S. Bailey]\n",
       "1006                              [Hermann Kolanoski]\n",
       "1007                                     [Dilip Jana]\n",
       "1008                                    [B. Sciascia]\n",
       "Name: authors_list, dtype: object"
      ]
     },
     "execution_count": 8,
     "metadata": {},
     "output_type": "execute_result"
    }
   ],
   "source": [
    "# 简单的看了一下，效果还不错，字符串全都变成单个的名字了\n",
    "data['authors_list'][1002:1009]"
   ]
  },
  {
   "cell_type": "code",
   "execution_count": 9,
   "metadata": {},
   "outputs": [],
   "source": [
    "# 这里偶然发现下面这好用的东西，统计起来真的是省时省力\n",
    "from collections import Counter\n",
    "names = []\n",
    "for i in data['authors_list']:\n",
    "    names += i\n",
    "top_ = Counter(names).most_common(10)"
   ]
  },
  {
   "cell_type": "code",
   "execution_count": 10,
   "metadata": {},
   "outputs": [],
   "source": [
    "# 下面就是绘图了\n",
    "top_X = [i[0] for i in top_]\n",
    "top_Y = [i[1] for i in top_]"
   ]
  },
  {
   "cell_type": "code",
   "execution_count": 22,
   "metadata": {},
   "outputs": [
    {
     "data": {
      "image/png": "[encoded data removed]",
      "text/plain": [
       "<Figure size 1260x560 with 1 Axes>"
      ]
     },
     "metadata": {
      "needs_background": "light"
     },
     "output_type": "display_data"
    }
   ],
   "source": [
    "fig = plt.figure(figsize=(18, 8), dpi=70)\n",
    "plt.bar(top_X,top_Y,0.4,color=\"green\")\n",
    "plt.xticks(top_X, top_X, rotation=30)\n",
    "\n",
    "for a, b in zip(top_X, top_Y):\n",
    "    plt.text(a, b + 0.07, '%.0f' % b, ha='center', va='bottom', fontsize=16)\n",
    "\n",
    "plt.title(\"统计所有论文作者出现频率Top 10\")\n",
    "\n",
    "plt.show()"
   ]
  },
  {
   "cell_type": "code",
   "execution_count": null,
   "metadata": {},
   "outputs": [],
   "source": []
  }
 ],
 "metadata": {
  "kernelspec": {
   "display_name": "Python 3",
   "language": "python",
   "name": "python3"
  },
  "language_info": {
   "codemirror_mode": {
    "name": "ipython",
    "version": 3
   },
   "file_extension": ".py",
   "mimetype": "text/x-python",
   "name": "python",
   "nbconvert_exporter": "python",
   "pygments_lexer": "ipython3",
   "version": "3.8.3"
  }
 },
 "nbformat": 4,
 "nbformat_minor": 4
}
