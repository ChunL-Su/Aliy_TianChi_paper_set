{
 "cells": [
  {
   "cell_type": "markdown",
   "metadata": {},
   "source": [
    "## 任务三的思路和难点\n",
    "### 难点：\n",
    "- 1、我也不知道一篇论文中到底包不包含源代码\n",
    "- 2、姑且认为只要有网址的论文，就认定存在源代码\n",
    "- 3、14列属性中那些会包含网址呢\n",
    "\n",
    "### 思路：\n",
    "- 1、按照上边的思路，并且观察到\"abstract\"和\"comments\"两列中最可能包含网址\n",
    "- 2、判定这两列的字符串中是否存在'http:'或者'https:'即可\n",
    "- 3、把符合上面条件的数据筛选出来，除以总数据条数就可以了"
   ]
  },
  {
   "cell_type": "code",
   "execution_count": 40,
   "metadata": {},
   "outputs": [],
   "source": [
    "# id              : arXivID,用于访问论文\n",
    "# submitter       : 论文提交者\n",
    "# authors         : 论文作者\n",
    "# title           : 论文标题\n",
    "# comments        : 论文页数和图标等其它信息\n",
    "# journal-ref     : 论文发表的期刊的信息\n",
    "# doi             : 数字对象标识符\n",
    "# report-no       : 报告编号\n",
    "# categories      : 论文在arXiv系统的所属类别标签\n",
    "# license         : 文章的许可证\n",
    "# abstract        : 摘要\n",
    "# versions        : 论文版本\n",
    "# authors_parsed  : 作者信息\n",
    "\n",
    "# BaseLine\n",
    "# 任务1:论文数量统计（统计2019年全年，计算机各个方向论文的数量）\n",
    "# 任务2:论文作者统计（统计所有论文作者出现频率Top10的姓名）\n",
    "# 任务3:论文代码统计（统计所有论文类别下包含源代码论文的比例）\n",
    "# 任务4:论文分类（利用已有数据建模，对新论文进行类别分类）\n",
    "# 任务5:作者关联（对论文作者关系进行建模，统计最常出现的作者关系）"
   ]
  },
  {
   "cell_type": "code",
   "execution_count": 41,
   "metadata": {},
   "outputs": [],
   "source": [
    "# 先用这几个库，之后不够再加\n",
    "import json\n",
    "import pandas as pd\n",
    "import numpy as np\n",
    "import matplotlib.pyplot as plt\n",
    "import matplotlib\n",
    "import re"
   ]
  },
  {
   "cell_type": "code",
   "execution_count": 42,
   "metadata": {},
   "outputs": [],
   "source": [
    "# 设置绘图可以使用中文\n",
    "font = {'family': 'MicroSoft YaHei',\n",
    "        'weight': 'bold',\n",
    "        'size': 20}\n",
    "matplotlib.rc(\"font\", **font)"
   ]
  },
  {
   "cell_type": "code",
   "execution_count": 43,
   "metadata": {},
   "outputs": [],
   "source": [
    "# 读取数据\n",
    "data = []\n",
    "# 使用with语句优势：1.自动关闭文件句柄；2.自动显示（处理）文件读取数据异常\n",
    "with open(r\"D:\\TianChi_DataSet\\paper_set\\arxiv-metadata-oai-2019.json\", 'r') as f:\n",
    "    for line in f:\n",
    "        data.append(json.loads(line))\n",
    "    data = pd.DataFrame(data)    # 将list变为dataframe格式，方便使用pandas进行分析\n",
    "# print(data.shape)   #显示数据大小"
   ]
  },
  {
   "cell_type": "code",
   "execution_count": 44,
   "metadata": {},
   "outputs": [],
   "source": [
    "# 筛选出字符串中包含'http或https'的数据，得到共5274条\n",
    "data_code = data[data['abstract'].str.contains('https:')|data['abstract'].str.contains('http:')|data['comments'].str.contains('https:')|data['comments'].str.contains('http:')]"
   ]
  },
  {
   "cell_type": "code",
   "execution_count": 45,
   "metadata": {},
   "outputs": [
    {
     "name": "stdout",
     "output_type": "stream",
     "text": [
      "包含源代码的论文比例约为3.091%\n"
     ]
    }
   ],
   "source": [
    "# 5274 / 170618 ≈ 3.091%\n",
    "print('包含源代码的论文比例约为{:.3f}%'.format((data_code.shape[0]*100)/data.shape[0]))"
   ]
  }
 ],
 "metadata": {
  "kernelspec": {
   "display_name": "Python 3",
   "language": "python",
   "name": "python3"
  },
  "language_info": {
   "codemirror_mode": {
    "name": "ipython",
    "version": 3
   },
   "file_extension": ".py",
   "mimetype": "text/x-python",
   "name": "python",
   "nbconvert_exporter": "python",
   "pygments_lexer": "ipython3",
   "version": "3.8.3"
  }
 },
 "nbformat": 4,
 "nbformat_minor": 4
}
