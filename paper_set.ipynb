{
 "cells": [
  {
   "cell_type": "markdown",
   "metadata": {},
   "source": [
    "## 任务一的思路和难点：\n",
    "### 思路：\n",
    "- 1、通过categories列来统计数量\n",
    "- 2、如果属于cs(computer science)则做上1或者True的标记，方便统计计算\n",
    "- 3、把标记存储在哪里呢，此时需要在data的最右侧添加新的一列，名字随意，我取的是'flag',默认填充为False\n",
    "- 4、最后用sum()一统计就好了\n",
    "\n",
    "### 难点：\n",
    "- 发现一篇论文一般不单单只属于一个列别，比如'cs.AO math.AH'这就是同时属于两个种类，现在就需要使用正则表达式识别出'cs.AO',并在flag列标记为True"
   ]
  },
  {
   "cell_type": "code",
   "execution_count": 22,
   "metadata": {},
   "outputs": [],
   "source": [
    "# id              : arXivID,用于访问论文\n",
    "# submitter       : 论文提交者\n",
    "# authors         : 论文作者\n",
    "# title           : 论文标题\n",
    "# comments        : 论文页数和图标等其它信息\n",
    "# journal-ref     : 论文发表的期刊的信息\n",
    "# doi             : 数字对象标识符\n",
    "# report-no       : 报告编号\n",
    "# categories      : 论文在arXiv系统的所属类别标签\n",
    "# license         : 文章的许可证\n",
    "# abstract        : 摘要\n",
    "# versions        : 论文版本\n",
    "# authors_parsed  : 作者信息\n",
    "\n",
    "# BaseLine\n",
    "# 任务1:论文数量统计（统计2019年全年，计算机各个方向论文的数量）\n",
    "# 任务2:论文作者统计（统计所有论文作者出现频率Top10的姓名）\n",
    "# 任务3:论文代码统计（统计所有论文类别下包含源代码论文的比例）\n",
    "# 任务4:论文分类（利用已有数据建模，对新论文进行类别分类）\n",
    "# 任务5:作者关联（对论文作者关系进行建模，统计最常出现的作者关系）"
   ]
  },
  {
   "cell_type": "code",
   "execution_count": 23,
   "metadata": {},
   "outputs": [],
   "source": [
    "# 先用这几个库，之后不够再加\n",
    "import json\n",
    "import pandas as pd\n",
    "import numpy as np\n",
    "import matplotlib.pyplot as plt"
   ]
  },
  {
   "cell_type": "code",
   "execution_count": 24,
   "metadata": {},
   "outputs": [
    {
     "name": "stdout",
     "output_type": "stream",
     "text": [
      "(170618, 14)\n"
     ]
    }
   ],
   "source": [
    "# 读取数据\n",
    "# 一直没看明白为什么有的帖子说全部读取需要8G，我这里一下子就读取了啊\n",
    "\n",
    "data = []\n",
    "# 使用with语句优势：1.自动关闭文件句柄；2.自动显示（处理）文件读取数据异常\n",
    "with open(r\"D:\\TianChi_DataSet\\paper_set\\arxiv-metadata-oai-2019.json\", 'r') as f:\n",
    "    for line in f:\n",
    "        data.append(json.loads(line))\n",
    "    data = pd.DataFrame(data)    # 将list变为dataframe格式，方便使用pandas进行分析\n",
    "print(data.shape)   #显示数据大小\n",
    "\n",
    "# 结果：2019年这个网站有17万篇论文"
   ]
  },
  {
   "cell_type": "code",
   "execution_count": 25,
   "metadata": {},
   "outputs": [
    {
     "data": {
      "text/plain": [
       "Index(['id', 'submitter', 'authors', 'title', 'comments', 'journal-ref', 'doi',\n",
       "       'report-no', 'categories', 'license', 'abstract', 'versions',\n",
       "       'update_date', 'authors_parsed'],\n",
       "      dtype='object')"
      ]
     },
     "execution_count": 25,
     "metadata": {},
     "output_type": "execute_result"
    }
   ],
   "source": [
    "# 显示各个特征值\n",
    "data.columns"
   ]
  },
  {
   "cell_type": "code",
   "execution_count": 26,
   "metadata": {},
   "outputs": [
    {
     "data": {
      "text/plain": [
       "0    astro-ph\n",
       "1     math.AT\n",
       "2    astro-ph\n",
       "3       gr-qc\n",
       "4    astro-ph\n",
       "5     nucl-ex\n",
       "6    quant-ph\n",
       "7     math.DG\n",
       "8      hep-ex\n",
       "9    astro-ph\n",
       "Name: categories, dtype: object"
      ]
     },
     "execution_count": 26,
     "metadata": {},
     "output_type": "execute_result"
    }
   ],
   "source": [
    "# 任务一是统计计算机方向的论文数量\n",
    "# arXiv那个网站加载不出来，我也懒得搭梯子，所以姑且认为 SC(Cumputer Science 计算机科学) 就是我们的目标类别\n",
    "\n",
    "# 通过查看data中论文类别的列，发现一个难点，就是同一篇论文所属的种类有多个，所以我的第一个想法就是通过循环+正则表达式\n",
    "# 的方式把多个类别当中的sc挑选出来，并且打标为True，或者1也行，然后用sum()函数直接统计数量就好啦\n",
    "# 所以，让我们开始吧\n",
    "data['categories'].head(10)"
   ]
  },
  {
   "cell_type": "code",
   "execution_count": 27,
   "metadata": {},
   "outputs": [
    {
     "data": {
      "text/plain": [
       "Index(['id', 'submitter', 'authors', 'title', 'comments', 'journal-ref', 'doi',\n",
       "       'report-no', 'categories', 'license', 'abstract', 'versions',\n",
       "       'update_date', 'authors_parsed', 'flag'],\n",
       "      dtype='object')"
      ]
     },
     "execution_count": 27,
     "metadata": {},
     "output_type": "execute_result"
    }
   ],
   "source": [
    "# 首先，需要再data最右侧新加一列，用于存储之前提到的标记\n",
    "data['flag'] = False\n",
    "data.columns"
   ]
  },
  {
   "cell_type": "code",
   "execution_count": 28,
   "metadata": {},
   "outputs": [
    {
     "data": {
      "text/plain": [
       "0    False\n",
       "1    False\n",
       "2    False\n",
       "3    False\n",
       "4    False\n",
       "Name: flag, dtype: bool"
      ]
     },
     "execution_count": 28,
     "metadata": {},
     "output_type": "execute_result"
    }
   ],
   "source": [
    "# 简单查看一下，确实添加成功了\n",
    "data['flag'].head()"
   ]
  },
  {
   "cell_type": "code",
   "execution_count": 29,
   "metadata": {},
   "outputs": [],
   "source": [
    "# 现在开始用正则表达式选取属于sc的论文，并再flag列中标记为True\n",
    "# 编写正则表达式处理函数\n",
    "import re\n",
    "def re_categories(s):\n",
    "    str = s['categories']\n",
    "    result = re.search('(cs\\.[A-Z][A-Z])', str, flags=0)\n",
    "    if isinstance(result, re.Match):\n",
    "        return True\n",
    "    else:\n",
    "        return False\n",
    "data['flag'] = data.apply(re_categories, axis=1)"
   ]
  },
  {
   "cell_type": "code",
   "execution_count": 30,
   "metadata": {},
   "outputs": [
    {
     "data": {
      "text/html": [
       "<div>\n",
       "<style scoped>\n",
       "    .dataframe tbody tr th:only-of-type {\n",
       "        vertical-align: middle;\n",
       "    }\n",
       "\n",
       "    .dataframe tbody tr th {\n",
       "        vertical-align: top;\n",
       "    }\n",
       "\n",
       "    .dataframe thead th {\n",
       "        text-align: right;\n",
       "    }\n",
       "</style>\n",
       "<table border=\"1\" class=\"dataframe\">\n",
       "  <thead>\n",
       "    <tr style=\"text-align: right;\">\n",
       "      <th></th>\n",
       "      <th>categories</th>\n",
       "      <th>flag</th>\n",
       "    </tr>\n",
       "  </thead>\n",
       "  <tbody>\n",
       "    <tr>\n",
       "      <th>100</th>\n",
       "      <td>hep-ex</td>\n",
       "      <td>False</td>\n",
       "    </tr>\n",
       "    <tr>\n",
       "      <th>101</th>\n",
       "      <td>astro-ph</td>\n",
       "      <td>False</td>\n",
       "    </tr>\n",
       "    <tr>\n",
       "      <th>102</th>\n",
       "      <td>hep-ex</td>\n",
       "      <td>False</td>\n",
       "    </tr>\n",
       "    <tr>\n",
       "      <th>103</th>\n",
       "      <td>physics.plasm-ph</td>\n",
       "      <td>False</td>\n",
       "    </tr>\n",
       "    <tr>\n",
       "      <th>104</th>\n",
       "      <td>astro-ph</td>\n",
       "      <td>False</td>\n",
       "    </tr>\n",
       "    <tr>\n",
       "      <th>105</th>\n",
       "      <td>hep-ex</td>\n",
       "      <td>False</td>\n",
       "    </tr>\n",
       "    <tr>\n",
       "      <th>106</th>\n",
       "      <td>hep-ex</td>\n",
       "      <td>False</td>\n",
       "    </tr>\n",
       "    <tr>\n",
       "      <th>107</th>\n",
       "      <td>math.OA</td>\n",
       "      <td>False</td>\n",
       "    </tr>\n",
       "    <tr>\n",
       "      <th>108</th>\n",
       "      <td>hep-ex</td>\n",
       "      <td>False</td>\n",
       "    </tr>\n",
       "    <tr>\n",
       "      <th>109</th>\n",
       "      <td>hep-ex</td>\n",
       "      <td>False</td>\n",
       "    </tr>\n",
       "    <tr>\n",
       "      <th>110</th>\n",
       "      <td>q-bio.MN q-bio.CB q-bio.OT</td>\n",
       "      <td>False</td>\n",
       "    </tr>\n",
       "    <tr>\n",
       "      <th>111</th>\n",
       "      <td>astro-ph</td>\n",
       "      <td>False</td>\n",
       "    </tr>\n",
       "    <tr>\n",
       "      <th>112</th>\n",
       "      <td>astro-ph</td>\n",
       "      <td>False</td>\n",
       "    </tr>\n",
       "    <tr>\n",
       "      <th>113</th>\n",
       "      <td>physics.gen-ph physics.bio-ph physics.pop-ph</td>\n",
       "      <td>False</td>\n",
       "    </tr>\n",
       "    <tr>\n",
       "      <th>114</th>\n",
       "      <td>math.GM</td>\n",
       "      <td>False</td>\n",
       "    </tr>\n",
       "    <tr>\n",
       "      <th>115</th>\n",
       "      <td>cs.LO</td>\n",
       "      <td>True</td>\n",
       "    </tr>\n",
       "    <tr>\n",
       "      <th>116</th>\n",
       "      <td>hep-ex</td>\n",
       "      <td>False</td>\n",
       "    </tr>\n",
       "    <tr>\n",
       "      <th>117</th>\n",
       "      <td>nucl-ex</td>\n",
       "      <td>False</td>\n",
       "    </tr>\n",
       "    <tr>\n",
       "      <th>118</th>\n",
       "      <td>nucl-ex</td>\n",
       "      <td>False</td>\n",
       "    </tr>\n",
       "    <tr>\n",
       "      <th>119</th>\n",
       "      <td>astro-ph</td>\n",
       "      <td>False</td>\n",
       "    </tr>\n",
       "    <tr>\n",
       "      <th>120</th>\n",
       "      <td>hep-ex</td>\n",
       "      <td>False</td>\n",
       "    </tr>\n",
       "    <tr>\n",
       "      <th>121</th>\n",
       "      <td>astro-ph</td>\n",
       "      <td>False</td>\n",
       "    </tr>\n",
       "    <tr>\n",
       "      <th>122</th>\n",
       "      <td>astro-ph</td>\n",
       "      <td>False</td>\n",
       "    </tr>\n",
       "    <tr>\n",
       "      <th>123</th>\n",
       "      <td>cs.NE cs.RO</td>\n",
       "      <td>True</td>\n",
       "    </tr>\n",
       "    <tr>\n",
       "      <th>124</th>\n",
       "      <td>astro-ph</td>\n",
       "      <td>False</td>\n",
       "    </tr>\n",
       "    <tr>\n",
       "      <th>125</th>\n",
       "      <td>astro-ph</td>\n",
       "      <td>False</td>\n",
       "    </tr>\n",
       "    <tr>\n",
       "      <th>126</th>\n",
       "      <td>math-ph hep-th math.MP</td>\n",
       "      <td>False</td>\n",
       "    </tr>\n",
       "    <tr>\n",
       "      <th>127</th>\n",
       "      <td>astro-ph</td>\n",
       "      <td>False</td>\n",
       "    </tr>\n",
       "    <tr>\n",
       "      <th>128</th>\n",
       "      <td>astro-ph</td>\n",
       "      <td>False</td>\n",
       "    </tr>\n",
       "    <tr>\n",
       "      <th>129</th>\n",
       "      <td>astro-ph</td>\n",
       "      <td>False</td>\n",
       "    </tr>\n",
       "  </tbody>\n",
       "</table>\n",
       "</div>"
      ],
      "text/plain": [
       "                                       categories   flag\n",
       "100                                        hep-ex  False\n",
       "101                                      astro-ph  False\n",
       "102                                        hep-ex  False\n",
       "103                              physics.plasm-ph  False\n",
       "104                                      astro-ph  False\n",
       "105                                        hep-ex  False\n",
       "106                                        hep-ex  False\n",
       "107                                       math.OA  False\n",
       "108                                        hep-ex  False\n",
       "109                                        hep-ex  False\n",
       "110                    q-bio.MN q-bio.CB q-bio.OT  False\n",
       "111                                      astro-ph  False\n",
       "112                                      astro-ph  False\n",
       "113  physics.gen-ph physics.bio-ph physics.pop-ph  False\n",
       "114                                       math.GM  False\n",
       "115                                         cs.LO   True\n",
       "116                                        hep-ex  False\n",
       "117                                       nucl-ex  False\n",
       "118                                       nucl-ex  False\n",
       "119                                      astro-ph  False\n",
       "120                                        hep-ex  False\n",
       "121                                      astro-ph  False\n",
       "122                                      astro-ph  False\n",
       "123                                   cs.NE cs.RO   True\n",
       "124                                      astro-ph  False\n",
       "125                                      astro-ph  False\n",
       "126                        math-ph hep-th math.MP  False\n",
       "127                                      astro-ph  False\n",
       "128                                      astro-ph  False\n",
       "129                                      astro-ph  False"
      ]
     },
     "execution_count": 30,
     "metadata": {},
     "output_type": "execute_result"
    }
   ],
   "source": [
    "# 简单看了一下100-200行之间的数据，看到115行，123行正确的变成了True，其它的还是False，目前看起来还是比较正确的\n",
    "data.loc[100:200, ['categories', 'flag']].head(30)"
   ]
  },
  {
   "cell_type": "code",
   "execution_count": 31,
   "metadata": {},
   "outputs": [
    {
     "name": "stdout",
     "output_type": "stream",
     "text": [
      "2019年 计算机方向论文数量： 53888\n"
     ]
    }
   ],
   "source": [
    "# 最终的统计总和\n",
    "num = data['flag'].sum()\n",
    "print('2019年 计算机方向论文数量：', num)"
   ]
  },
  {
   "cell_type": "code",
   "execution_count": null,
   "metadata": {},
   "outputs": [],
   "source": []
  }
 ],
 "metadata": {
  "kernelspec": {
   "display_name": "Python 3",
   "language": "python",
   "name": "python3"
  },
  "language_info": {
   "codemirror_mode": {
    "name": "ipython",
    "version": 3
   },
   "file_extension": ".py",
   "mimetype": "text/x-python",
   "name": "python",
   "nbconvert_exporter": "python",
   "pygments_lexer": "ipython3",
   "version": "3.8.3"
  }
 },
 "nbformat": 4,
 "nbformat_minor": 4
}
